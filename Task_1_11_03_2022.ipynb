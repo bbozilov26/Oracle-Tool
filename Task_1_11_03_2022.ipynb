{
  "nbformat": 4,
  "nbformat_minor": 0,
  "metadata": {
    "colab": {
      "name": "Task_1_11.03.2022.ipynb",
      "provenance": [],
      "toc_visible": true,
      "collapsed_sections": [
        "5mLNPsT2Bu2S",
        "SGkie8lYDyBl"
      ],
      "include_colab_link": true
    },
    "kernelspec": {
      "name": "python3",
      "display_name": "Python 3"
    },
    "language_info": {
      "name": "python"
    }
  },
  "cells": [
    {
      "cell_type": "markdown",
      "metadata": {
        "id": "view-in-github",
        "colab_type": "text"
      },
      "source": [
        "<a href=\"https://colab.research.google.com/github/Andrej40701/Oracle-Tool/blob/main/Task_1_11_03_2022.ipynb\" target=\"_parent\"><img src=\"https://colab.research.google.com/assets/colab-badge.svg\" alt=\"Open In Colab\"/></a>"
      ]
    },
    {
      "cell_type": "markdown",
      "source": [
        "# Import"
      ],
      "metadata": {
        "id": "ku-SBEyuBAVK"
      }
    },
    {
      "cell_type": "code",
      "execution_count": null,
      "metadata": {
        "id": "yXfoooKE_k-t"
      },
      "outputs": [],
      "source": [
        "import numpy as np\n",
        "import pandas as pd\n",
        "import math\n",
        "import matplotlib.pyplot as plt\n",
        "from datetime import datetime\n",
        "import seaborn as sns"
      ]
    },
    {
      "cell_type": "code",
      "source": [
        "data = pd.read_csv('/content/drive/MyDrive/oracle/data/DAX 11-3-22.csv',index_col=False)"
      ],
      "metadata": {
        "id": "NxIv0z4fBMuI"
      },
      "execution_count": null,
      "outputs": []
    },
    {
      "cell_type": "code",
      "source": [
        "data.head()"
      ],
      "metadata": {
        "colab": {
          "base_uri": "https://localhost:8080/",
          "height": 206
        },
        "id": "RtWhLVmTBcey",
        "outputId": "188fef3d-c559-41e4-98a9-4718379d2999"
      },
      "execution_count": null,
      "outputs": [
        {
          "output_type": "execute_result",
          "data": {
            "text/plain": [
              "       Time      Course Day Before   Piece  Accumulated\n",
              "0  16:59:59  13.716.930     -4.13%    4.42  112.977.897\n",
              "1  16:59:58  13.718.590     -4.11%   8.622  112.973.476\n",
              "2  16:59:57  13.718.750     -4.11%  16.971  112.964.854\n",
              "3  16:59:56  13.718.740     -4.11%   5.202  112.947.883\n",
              "4  16:59:55  13.719.080     -4.11%   1.348  112.942.681"
            ],
            "text/html": [
              "\n",
              "  <div id=\"df-dfb29099-0b38-4ea4-81d2-1ecbcc5bf00b\">\n",
              "    <div class=\"colab-df-container\">\n",
              "      <div>\n",
              "<style scoped>\n",
              "    .dataframe tbody tr th:only-of-type {\n",
              "        vertical-align: middle;\n",
              "    }\n",
              "\n",
              "    .dataframe tbody tr th {\n",
              "        vertical-align: top;\n",
              "    }\n",
              "\n",
              "    .dataframe thead th {\n",
              "        text-align: right;\n",
              "    }\n",
              "</style>\n",
              "<table border=\"1\" class=\"dataframe\">\n",
              "  <thead>\n",
              "    <tr style=\"text-align: right;\">\n",
              "      <th></th>\n",
              "      <th>Time</th>\n",
              "      <th>Course</th>\n",
              "      <th>Day Before</th>\n",
              "      <th>Piece</th>\n",
              "      <th>Accumulated</th>\n",
              "    </tr>\n",
              "  </thead>\n",
              "  <tbody>\n",
              "    <tr>\n",
              "      <th>0</th>\n",
              "      <td>16:59:59</td>\n",
              "      <td>13.716.930</td>\n",
              "      <td>-4.13%</td>\n",
              "      <td>4.42</td>\n",
              "      <td>112.977.897</td>\n",
              "    </tr>\n",
              "    <tr>\n",
              "      <th>1</th>\n",
              "      <td>16:59:58</td>\n",
              "      <td>13.718.590</td>\n",
              "      <td>-4.11%</td>\n",
              "      <td>8.622</td>\n",
              "      <td>112.973.476</td>\n",
              "    </tr>\n",
              "    <tr>\n",
              "      <th>2</th>\n",
              "      <td>16:59:57</td>\n",
              "      <td>13.718.750</td>\n",
              "      <td>-4.11%</td>\n",
              "      <td>16.971</td>\n",
              "      <td>112.964.854</td>\n",
              "    </tr>\n",
              "    <tr>\n",
              "      <th>3</th>\n",
              "      <td>16:59:56</td>\n",
              "      <td>13.718.740</td>\n",
              "      <td>-4.11%</td>\n",
              "      <td>5.202</td>\n",
              "      <td>112.947.883</td>\n",
              "    </tr>\n",
              "    <tr>\n",
              "      <th>4</th>\n",
              "      <td>16:59:55</td>\n",
              "      <td>13.719.080</td>\n",
              "      <td>-4.11%</td>\n",
              "      <td>1.348</td>\n",
              "      <td>112.942.681</td>\n",
              "    </tr>\n",
              "  </tbody>\n",
              "</table>\n",
              "</div>\n",
              "      <button class=\"colab-df-convert\" onclick=\"convertToInteractive('df-dfb29099-0b38-4ea4-81d2-1ecbcc5bf00b')\"\n",
              "              title=\"Convert this dataframe to an interactive table.\"\n",
              "              style=\"display:none;\">\n",
              "        \n",
              "  <svg xmlns=\"http://www.w3.org/2000/svg\" height=\"24px\"viewBox=\"0 0 24 24\"\n",
              "       width=\"24px\">\n",
              "    <path d=\"M0 0h24v24H0V0z\" fill=\"none\"/>\n",
              "    <path d=\"M18.56 5.44l.94 2.06.94-2.06 2.06-.94-2.06-.94-.94-2.06-.94 2.06-2.06.94zm-11 1L8.5 8.5l.94-2.06 2.06-.94-2.06-.94L8.5 2.5l-.94 2.06-2.06.94zm10 10l.94 2.06.94-2.06 2.06-.94-2.06-.94-.94-2.06-.94 2.06-2.06.94z\"/><path d=\"M17.41 7.96l-1.37-1.37c-.4-.4-.92-.59-1.43-.59-.52 0-1.04.2-1.43.59L10.3 9.45l-7.72 7.72c-.78.78-.78 2.05 0 2.83L4 21.41c.39.39.9.59 1.41.59.51 0 1.02-.2 1.41-.59l7.78-7.78 2.81-2.81c.8-.78.8-2.07 0-2.86zM5.41 20L4 18.59l7.72-7.72 1.47 1.35L5.41 20z\"/>\n",
              "  </svg>\n",
              "      </button>\n",
              "      \n",
              "  <style>\n",
              "    .colab-df-container {\n",
              "      display:flex;\n",
              "      flex-wrap:wrap;\n",
              "      gap: 12px;\n",
              "    }\n",
              "\n",
              "    .colab-df-convert {\n",
              "      background-color: #E8F0FE;\n",
              "      border: none;\n",
              "      border-radius: 50%;\n",
              "      cursor: pointer;\n",
              "      display: none;\n",
              "      fill: #1967D2;\n",
              "      height: 32px;\n",
              "      padding: 0 0 0 0;\n",
              "      width: 32px;\n",
              "    }\n",
              "\n",
              "    .colab-df-convert:hover {\n",
              "      background-color: #E2EBFA;\n",
              "      box-shadow: 0px 1px 2px rgba(60, 64, 67, 0.3), 0px 1px 3px 1px rgba(60, 64, 67, 0.15);\n",
              "      fill: #174EA6;\n",
              "    }\n",
              "\n",
              "    [theme=dark] .colab-df-convert {\n",
              "      background-color: #3B4455;\n",
              "      fill: #D2E3FC;\n",
              "    }\n",
              "\n",
              "    [theme=dark] .colab-df-convert:hover {\n",
              "      background-color: #434B5C;\n",
              "      box-shadow: 0px 1px 3px 1px rgba(0, 0, 0, 0.15);\n",
              "      filter: drop-shadow(0px 1px 2px rgba(0, 0, 0, 0.3));\n",
              "      fill: #FFFFFF;\n",
              "    }\n",
              "  </style>\n",
              "\n",
              "      <script>\n",
              "        const buttonEl =\n",
              "          document.querySelector('#df-dfb29099-0b38-4ea4-81d2-1ecbcc5bf00b button.colab-df-convert');\n",
              "        buttonEl.style.display =\n",
              "          google.colab.kernel.accessAllowed ? 'block' : 'none';\n",
              "\n",
              "        async function convertToInteractive(key) {\n",
              "          const element = document.querySelector('#df-dfb29099-0b38-4ea4-81d2-1ecbcc5bf00b');\n",
              "          const dataTable =\n",
              "            await google.colab.kernel.invokeFunction('convertToInteractive',\n",
              "                                                     [key], {});\n",
              "          if (!dataTable) return;\n",
              "\n",
              "          const docLinkHtml = 'Like what you see? Visit the ' +\n",
              "            '<a target=\"_blank\" href=https://colab.research.google.com/notebooks/data_table.ipynb>data table notebook</a>'\n",
              "            + ' to learn more about interactive tables.';\n",
              "          element.innerHTML = '';\n",
              "          dataTable['output_type'] = 'display_data';\n",
              "          await google.colab.output.renderOutput(dataTable, element);\n",
              "          const docLink = document.createElement('div');\n",
              "          docLink.innerHTML = docLinkHtml;\n",
              "          element.appendChild(docLink);\n",
              "        }\n",
              "      </script>\n",
              "    </div>\n",
              "  </div>\n",
              "  "
            ]
          },
          "metadata": {},
          "execution_count": 3
        }
      ]
    },
    {
      "cell_type": "markdown",
      "source": [
        "# Missing values"
      ],
      "metadata": {
        "id": "5mLNPsT2Bu2S"
      }
    },
    {
      "cell_type": "code",
      "source": [
        "missing_values = data.isnull().sum()\n",
        "percentage = 100 * data.isnull().sum() / len(data)\n",
        "missing_values_table = pd.concat([missing_values, percentage], axis=1)\n",
        "missing_values_table.columns = ['Num. of missing values','% of missing values']\n",
        "missing_values_table"
      ],
      "metadata": {
        "colab": {
          "base_uri": "https://localhost:8080/"
        },
        "id": "F-EzLYaKBtZR",
        "outputId": "a0fac059-b8ee-43a4-f576-53d16585a90a"
      },
      "execution_count": null,
      "outputs": [
        {
          "output_type": "execute_result",
          "data": {
            "text/plain": [
              "             Num. of missing values  % of missing values\n",
              "Time                              0                  0.0\n",
              "Course                            0                  0.0\n",
              "Day Before                        0                  0.0\n",
              "Piece                             0                  0.0\n",
              "Accumulated                       0                  0.0"
            ],
            "text/html": [
              "\n",
              "  <div id=\"df-f81d65f9-7243-484b-b17c-3af81b3c81c5\">\n",
              "    <div class=\"colab-df-container\">\n",
              "      <div>\n",
              "<style scoped>\n",
              "    .dataframe tbody tr th:only-of-type {\n",
              "        vertical-align: middle;\n",
              "    }\n",
              "\n",
              "    .dataframe tbody tr th {\n",
              "        vertical-align: top;\n",
              "    }\n",
              "\n",
              "    .dataframe thead th {\n",
              "        text-align: right;\n",
              "    }\n",
              "</style>\n",
              "<table border=\"1\" class=\"dataframe\">\n",
              "  <thead>\n",
              "    <tr style=\"text-align: right;\">\n",
              "      <th></th>\n",
              "      <th>Num. of missing values</th>\n",
              "      <th>% of missing values</th>\n",
              "    </tr>\n",
              "  </thead>\n",
              "  <tbody>\n",
              "    <tr>\n",
              "      <th>Time</th>\n",
              "      <td>0</td>\n",
              "      <td>0.0</td>\n",
              "    </tr>\n",
              "    <tr>\n",
              "      <th>Course</th>\n",
              "      <td>0</td>\n",
              "      <td>0.0</td>\n",
              "    </tr>\n",
              "    <tr>\n",
              "      <th>Day Before</th>\n",
              "      <td>0</td>\n",
              "      <td>0.0</td>\n",
              "    </tr>\n",
              "    <tr>\n",
              "      <th>Piece</th>\n",
              "      <td>0</td>\n",
              "      <td>0.0</td>\n",
              "    </tr>\n",
              "    <tr>\n",
              "      <th>Accumulated</th>\n",
              "      <td>0</td>\n",
              "      <td>0.0</td>\n",
              "    </tr>\n",
              "  </tbody>\n",
              "</table>\n",
              "</div>\n",
              "      <button class=\"colab-df-convert\" onclick=\"convertToInteractive('df-f81d65f9-7243-484b-b17c-3af81b3c81c5')\"\n",
              "              title=\"Convert this dataframe to an interactive table.\"\n",
              "              style=\"display:none;\">\n",
              "        \n",
              "  <svg xmlns=\"http://www.w3.org/2000/svg\" height=\"24px\"viewBox=\"0 0 24 24\"\n",
              "       width=\"24px\">\n",
              "    <path d=\"M0 0h24v24H0V0z\" fill=\"none\"/>\n",
              "    <path d=\"M18.56 5.44l.94 2.06.94-2.06 2.06-.94-2.06-.94-.94-2.06-.94 2.06-2.06.94zm-11 1L8.5 8.5l.94-2.06 2.06-.94-2.06-.94L8.5 2.5l-.94 2.06-2.06.94zm10 10l.94 2.06.94-2.06 2.06-.94-2.06-.94-.94-2.06-.94 2.06-2.06.94z\"/><path d=\"M17.41 7.96l-1.37-1.37c-.4-.4-.92-.59-1.43-.59-.52 0-1.04.2-1.43.59L10.3 9.45l-7.72 7.72c-.78.78-.78 2.05 0 2.83L4 21.41c.39.39.9.59 1.41.59.51 0 1.02-.2 1.41-.59l7.78-7.78 2.81-2.81c.8-.78.8-2.07 0-2.86zM5.41 20L4 18.59l7.72-7.72 1.47 1.35L5.41 20z\"/>\n",
              "  </svg>\n",
              "      </button>\n",
              "      \n",
              "  <style>\n",
              "    .colab-df-container {\n",
              "      display:flex;\n",
              "      flex-wrap:wrap;\n",
              "      gap: 12px;\n",
              "    }\n",
              "\n",
              "    .colab-df-convert {\n",
              "      background-color: #E8F0FE;\n",
              "      border: none;\n",
              "      border-radius: 50%;\n",
              "      cursor: pointer;\n",
              "      display: none;\n",
              "      fill: #1967D2;\n",
              "      height: 32px;\n",
              "      padding: 0 0 0 0;\n",
              "      width: 32px;\n",
              "    }\n",
              "\n",
              "    .colab-df-convert:hover {\n",
              "      background-color: #E2EBFA;\n",
              "      box-shadow: 0px 1px 2px rgba(60, 64, 67, 0.3), 0px 1px 3px 1px rgba(60, 64, 67, 0.15);\n",
              "      fill: #174EA6;\n",
              "    }\n",
              "\n",
              "    [theme=dark] .colab-df-convert {\n",
              "      background-color: #3B4455;\n",
              "      fill: #D2E3FC;\n",
              "    }\n",
              "\n",
              "    [theme=dark] .colab-df-convert:hover {\n",
              "      background-color: #434B5C;\n",
              "      box-shadow: 0px 1px 3px 1px rgba(0, 0, 0, 0.15);\n",
              "      filter: drop-shadow(0px 1px 2px rgba(0, 0, 0, 0.3));\n",
              "      fill: #FFFFFF;\n",
              "    }\n",
              "  </style>\n",
              "\n",
              "      <script>\n",
              "        const buttonEl =\n",
              "          document.querySelector('#df-f81d65f9-7243-484b-b17c-3af81b3c81c5 button.colab-df-convert');\n",
              "        buttonEl.style.display =\n",
              "          google.colab.kernel.accessAllowed ? 'block' : 'none';\n",
              "\n",
              "        async function convertToInteractive(key) {\n",
              "          const element = document.querySelector('#df-f81d65f9-7243-484b-b17c-3af81b3c81c5');\n",
              "          const dataTable =\n",
              "            await google.colab.kernel.invokeFunction('convertToInteractive',\n",
              "                                                     [key], {});\n",
              "          if (!dataTable) return;\n",
              "\n",
              "          const docLinkHtml = 'Like what you see? Visit the ' +\n",
              "            '<a target=\"_blank\" href=https://colab.research.google.com/notebooks/data_table.ipynb>data table notebook</a>'\n",
              "            + ' to learn more about interactive tables.';\n",
              "          element.innerHTML = '';\n",
              "          dataTable['output_type'] = 'display_data';\n",
              "          await google.colab.output.renderOutput(dataTable, element);\n",
              "          const docLink = document.createElement('div');\n",
              "          docLink.innerHTML = docLinkHtml;\n",
              "          element.appendChild(docLink);\n",
              "        }\n",
              "      </script>\n",
              "    </div>\n",
              "  </div>\n",
              "  "
            ]
          },
          "metadata": {},
          "execution_count": 4
        }
      ]
    },
    {
      "cell_type": "markdown",
      "source": [
        "# Prepering the data\n"
      ],
      "metadata": {
        "id": "SGkie8lYDyBl"
      }
    },
    {
      "cell_type": "code",
      "source": [
        "len(data)"
      ],
      "metadata": {
        "colab": {
          "base_uri": "https://localhost:8080/"
        },
        "id": "8Kmrdi92HWu-",
        "outputId": "146e059b-230b-4ada-bde0-92719eb0ed02"
      },
      "execution_count": null,
      "outputs": [
        {
          "output_type": "execute_result",
          "data": {
            "text/plain": [
              "28624"
            ]
          },
          "metadata": {},
          "execution_count": 5
        }
      ]
    },
    {
      "cell_type": "code",
      "source": [
        "data.dtypes"
      ],
      "metadata": {
        "colab": {
          "base_uri": "https://localhost:8080/"
        },
        "id": "LJ9nXttZHclA",
        "outputId": "31b7827f-96a3-4904-d90f-50f7bb79ca78"
      },
      "execution_count": null,
      "outputs": [
        {
          "output_type": "execute_result",
          "data": {
            "text/plain": [
              "Time           object\n",
              "Course         object\n",
              "Day Before     object\n",
              "Piece          object\n",
              "Accumulated    object\n",
              "dtype: object"
            ]
          },
          "metadata": {},
          "execution_count": 6
        }
      ]
    },
    {
      "cell_type": "code",
      "source": [
        "i = data[(data.Course == 'Kurs')].index"
      ],
      "metadata": {
        "id": "iexK1-GzIs2j"
      },
      "execution_count": null,
      "outputs": []
    },
    {
      "cell_type": "code",
      "source": [
        "data = data.drop(i)"
      ],
      "metadata": {
        "id": "Q1gkfaZzI-CE"
      },
      "execution_count": null,
      "outputs": []
    },
    {
      "cell_type": "code",
      "source": [
        "data.reset_index(inplace=True)\n",
        "data"
      ],
      "metadata": {
        "colab": {
          "base_uri": "https://localhost:8080/",
          "height": 424
        },
        "id": "RtS7EVeRJTSM",
        "outputId": "91e61f82-d8b8-4b68-9cdd-9db4ddb7e198"
      },
      "execution_count": null,
      "outputs": [
        {
          "output_type": "execute_result",
          "data": {
            "text/plain": [
              "       index      Time      Course Day Before      Piece  Accumulated\n",
              "0          0  16:59:59  13.716.930     -4.13%       4.42  112.977.897\n",
              "1          1  16:59:58  13.718.590     -4.11%      8.622  112.973.476\n",
              "2          2  16:59:57  13.718.750     -4.11%     16.971  112.964.854\n",
              "3          3  16:59:56  13.718.740     -4.11%      5.202  112.947.883\n",
              "4          4  16:59:55  13.719.080     -4.11%      1.348  112.942.681\n",
              "...      ...       ...         ...        ...        ...          ...\n",
              "28618  28619  09:03:01  13.482.360     -5.94%     25.713    3.429.575\n",
              "28619  28620  09:03:00  13.487.590     -5.90%     11.404    3.403.862\n",
              "28620  28621  09:02:59  13.484.430     -5.92%     12.636    3.392.458\n",
              "28621  28622  09:02:58  13.483.000     -5.93%     10.332    3.379.822\n",
              "28622  28623  09:02:57  13.479.690     -5.96%  3.369.490    3.369.490\n",
              "\n",
              "[28623 rows x 6 columns]"
            ],
            "text/html": [
              "\n",
              "  <div id=\"df-7e97becd-f2c4-4158-959c-a95bc4b3b2f1\">\n",
              "    <div class=\"colab-df-container\">\n",
              "      <div>\n",
              "<style scoped>\n",
              "    .dataframe tbody tr th:only-of-type {\n",
              "        vertical-align: middle;\n",
              "    }\n",
              "\n",
              "    .dataframe tbody tr th {\n",
              "        vertical-align: top;\n",
              "    }\n",
              "\n",
              "    .dataframe thead th {\n",
              "        text-align: right;\n",
              "    }\n",
              "</style>\n",
              "<table border=\"1\" class=\"dataframe\">\n",
              "  <thead>\n",
              "    <tr style=\"text-align: right;\">\n",
              "      <th></th>\n",
              "      <th>index</th>\n",
              "      <th>Time</th>\n",
              "      <th>Course</th>\n",
              "      <th>Day Before</th>\n",
              "      <th>Piece</th>\n",
              "      <th>Accumulated</th>\n",
              "    </tr>\n",
              "  </thead>\n",
              "  <tbody>\n",
              "    <tr>\n",
              "      <th>0</th>\n",
              "      <td>0</td>\n",
              "      <td>16:59:59</td>\n",
              "      <td>13.716.930</td>\n",
              "      <td>-4.13%</td>\n",
              "      <td>4.42</td>\n",
              "      <td>112.977.897</td>\n",
              "    </tr>\n",
              "    <tr>\n",
              "      <th>1</th>\n",
              "      <td>1</td>\n",
              "      <td>16:59:58</td>\n",
              "      <td>13.718.590</td>\n",
              "      <td>-4.11%</td>\n",
              "      <td>8.622</td>\n",
              "      <td>112.973.476</td>\n",
              "    </tr>\n",
              "    <tr>\n",
              "      <th>2</th>\n",
              "      <td>2</td>\n",
              "      <td>16:59:57</td>\n",
              "      <td>13.718.750</td>\n",
              "      <td>-4.11%</td>\n",
              "      <td>16.971</td>\n",
              "      <td>112.964.854</td>\n",
              "    </tr>\n",
              "    <tr>\n",
              "      <th>3</th>\n",
              "      <td>3</td>\n",
              "      <td>16:59:56</td>\n",
              "      <td>13.718.740</td>\n",
              "      <td>-4.11%</td>\n",
              "      <td>5.202</td>\n",
              "      <td>112.947.883</td>\n",
              "    </tr>\n",
              "    <tr>\n",
              "      <th>4</th>\n",
              "      <td>4</td>\n",
              "      <td>16:59:55</td>\n",
              "      <td>13.719.080</td>\n",
              "      <td>-4.11%</td>\n",
              "      <td>1.348</td>\n",
              "      <td>112.942.681</td>\n",
              "    </tr>\n",
              "    <tr>\n",
              "      <th>...</th>\n",
              "      <td>...</td>\n",
              "      <td>...</td>\n",
              "      <td>...</td>\n",
              "      <td>...</td>\n",
              "      <td>...</td>\n",
              "      <td>...</td>\n",
              "    </tr>\n",
              "    <tr>\n",
              "      <th>28618</th>\n",
              "      <td>28619</td>\n",
              "      <td>09:03:01</td>\n",
              "      <td>13.482.360</td>\n",
              "      <td>-5.94%</td>\n",
              "      <td>25.713</td>\n",
              "      <td>3.429.575</td>\n",
              "    </tr>\n",
              "    <tr>\n",
              "      <th>28619</th>\n",
              "      <td>28620</td>\n",
              "      <td>09:03:00</td>\n",
              "      <td>13.487.590</td>\n",
              "      <td>-5.90%</td>\n",
              "      <td>11.404</td>\n",
              "      <td>3.403.862</td>\n",
              "    </tr>\n",
              "    <tr>\n",
              "      <th>28620</th>\n",
              "      <td>28621</td>\n",
              "      <td>09:02:59</td>\n",
              "      <td>13.484.430</td>\n",
              "      <td>-5.92%</td>\n",
              "      <td>12.636</td>\n",
              "      <td>3.392.458</td>\n",
              "    </tr>\n",
              "    <tr>\n",
              "      <th>28621</th>\n",
              "      <td>28622</td>\n",
              "      <td>09:02:58</td>\n",
              "      <td>13.483.000</td>\n",
              "      <td>-5.93%</td>\n",
              "      <td>10.332</td>\n",
              "      <td>3.379.822</td>\n",
              "    </tr>\n",
              "    <tr>\n",
              "      <th>28622</th>\n",
              "      <td>28623</td>\n",
              "      <td>09:02:57</td>\n",
              "      <td>13.479.690</td>\n",
              "      <td>-5.96%</td>\n",
              "      <td>3.369.490</td>\n",
              "      <td>3.369.490</td>\n",
              "    </tr>\n",
              "  </tbody>\n",
              "</table>\n",
              "<p>28623 rows × 6 columns</p>\n",
              "</div>\n",
              "      <button class=\"colab-df-convert\" onclick=\"convertToInteractive('df-7e97becd-f2c4-4158-959c-a95bc4b3b2f1')\"\n",
              "              title=\"Convert this dataframe to an interactive table.\"\n",
              "              style=\"display:none;\">\n",
              "        \n",
              "  <svg xmlns=\"http://www.w3.org/2000/svg\" height=\"24px\"viewBox=\"0 0 24 24\"\n",
              "       width=\"24px\">\n",
              "    <path d=\"M0 0h24v24H0V0z\" fill=\"none\"/>\n",
              "    <path d=\"M18.56 5.44l.94 2.06.94-2.06 2.06-.94-2.06-.94-.94-2.06-.94 2.06-2.06.94zm-11 1L8.5 8.5l.94-2.06 2.06-.94-2.06-.94L8.5 2.5l-.94 2.06-2.06.94zm10 10l.94 2.06.94-2.06 2.06-.94-2.06-.94-.94-2.06-.94 2.06-2.06.94z\"/><path d=\"M17.41 7.96l-1.37-1.37c-.4-.4-.92-.59-1.43-.59-.52 0-1.04.2-1.43.59L10.3 9.45l-7.72 7.72c-.78.78-.78 2.05 0 2.83L4 21.41c.39.39.9.59 1.41.59.51 0 1.02-.2 1.41-.59l7.78-7.78 2.81-2.81c.8-.78.8-2.07 0-2.86zM5.41 20L4 18.59l7.72-7.72 1.47 1.35L5.41 20z\"/>\n",
              "  </svg>\n",
              "      </button>\n",
              "      \n",
              "  <style>\n",
              "    .colab-df-container {\n",
              "      display:flex;\n",
              "      flex-wrap:wrap;\n",
              "      gap: 12px;\n",
              "    }\n",
              "\n",
              "    .colab-df-convert {\n",
              "      background-color: #E8F0FE;\n",
              "      border: none;\n",
              "      border-radius: 50%;\n",
              "      cursor: pointer;\n",
              "      display: none;\n",
              "      fill: #1967D2;\n",
              "      height: 32px;\n",
              "      padding: 0 0 0 0;\n",
              "      width: 32px;\n",
              "    }\n",
              "\n",
              "    .colab-df-convert:hover {\n",
              "      background-color: #E2EBFA;\n",
              "      box-shadow: 0px 1px 2px rgba(60, 64, 67, 0.3), 0px 1px 3px 1px rgba(60, 64, 67, 0.15);\n",
              "      fill: #174EA6;\n",
              "    }\n",
              "\n",
              "    [theme=dark] .colab-df-convert {\n",
              "      background-color: #3B4455;\n",
              "      fill: #D2E3FC;\n",
              "    }\n",
              "\n",
              "    [theme=dark] .colab-df-convert:hover {\n",
              "      background-color: #434B5C;\n",
              "      box-shadow: 0px 1px 3px 1px rgba(0, 0, 0, 0.15);\n",
              "      filter: drop-shadow(0px 1px 2px rgba(0, 0, 0, 0.3));\n",
              "      fill: #FFFFFF;\n",
              "    }\n",
              "  </style>\n",
              "\n",
              "      <script>\n",
              "        const buttonEl =\n",
              "          document.querySelector('#df-7e97becd-f2c4-4158-959c-a95bc4b3b2f1 button.colab-df-convert');\n",
              "        buttonEl.style.display =\n",
              "          google.colab.kernel.accessAllowed ? 'block' : 'none';\n",
              "\n",
              "        async function convertToInteractive(key) {\n",
              "          const element = document.querySelector('#df-7e97becd-f2c4-4158-959c-a95bc4b3b2f1');\n",
              "          const dataTable =\n",
              "            await google.colab.kernel.invokeFunction('convertToInteractive',\n",
              "                                                     [key], {});\n",
              "          if (!dataTable) return;\n",
              "\n",
              "          const docLinkHtml = 'Like what you see? Visit the ' +\n",
              "            '<a target=\"_blank\" href=https://colab.research.google.com/notebooks/data_table.ipynb>data table notebook</a>'\n",
              "            + ' to learn more about interactive tables.';\n",
              "          element.innerHTML = '';\n",
              "          dataTable['output_type'] = 'display_data';\n",
              "          await google.colab.output.renderOutput(dataTable, element);\n",
              "          const docLink = document.createElement('div');\n",
              "          docLink.innerHTML = docLinkHtml;\n",
              "          element.appendChild(docLink);\n",
              "        }\n",
              "      </script>\n",
              "    </div>\n",
              "  </div>\n",
              "  "
            ]
          },
          "metadata": {},
          "execution_count": 9
        }
      ]
    },
    {
      "cell_type": "code",
      "source": [
        "data = data.drop(columns='index')"
      ],
      "metadata": {
        "id": "HrNj7gdDJX-r"
      },
      "execution_count": null,
      "outputs": []
    },
    {
      "cell_type": "code",
      "source": [
        "for i in range(len(data)):\n",
        "  temp = data.Course[i]\n",
        "  one,two,three = temp.split('.')\n",
        "  temp2 = float(one+two)\n",
        "  temp3 = float('0.'+three)\n",
        "  data.Course[i] = temp2 + temp3"
      ],
      "metadata": {
        "id": "EEK_dcmnG4LW"
      },
      "execution_count": null,
      "outputs": []
    },
    {
      "cell_type": "code",
      "source": [
        "data.Course[0]"
      ],
      "metadata": {
        "colab": {
          "base_uri": "https://localhost:8080/"
        },
        "id": "5BU3BSnlJi2g",
        "outputId": "0a05c3f7-99da-40f9-e7f7-54a9967d0939"
      },
      "execution_count": null,
      "outputs": [
        {
          "output_type": "execute_result",
          "data": {
            "text/plain": [
              "13716.93"
            ]
          },
          "metadata": {},
          "execution_count": 12
        }
      ]
    },
    {
      "cell_type": "code",
      "source": [
        "for i in range(len(data)):\n",
        "  temp = data.Accumulated[i]\n",
        "  one,two,three = temp.split('.')\n",
        "  temp2 = float(one+two)\n",
        "  temp3 = float('0.'+three)\n",
        "  data.Accumulated[i] = temp2 + temp3"
      ],
      "metadata": {
        "id": "duaTZzGbJtDm"
      },
      "execution_count": null,
      "outputs": []
    },
    {
      "cell_type": "code",
      "source": [
        "data.Accumulated[0]"
      ],
      "metadata": {
        "colab": {
          "base_uri": "https://localhost:8080/"
        },
        "id": "u6OoNGLdJxYA",
        "outputId": "cb0e4ae5-cdad-468a-f96c-c93f92db2cd4"
      },
      "execution_count": null,
      "outputs": [
        {
          "output_type": "execute_result",
          "data": {
            "text/plain": [
              "112977.897"
            ]
          },
          "metadata": {},
          "execution_count": 14
        }
      ]
    },
    {
      "cell_type": "markdown",
      "source": [
        "#Growth or decline limits"
      ],
      "metadata": {
        "id": "2H8rdAMNkhwv"
      }
    },
    {
      "cell_type": "markdown",
      "source": [
        "* Се зема разлика на логаритмите на цените во соседни времиња r(n) =  ln p(n+1) - ln p(n). Тоа е добивка (return) за еден чекор. Растот, или падот може да се земе да биде средна вредност R = (r(1)+r(2) + r(T-1)) / (T-1) на добивките за време на некој период Т (да речиме Т=10, или Т=50 последователни времиња). Поефикасно е ако се земе ln p(Т+1) - ln p(1). \n",
        "* За да ја најдиме психолошката граница - дали имало раст, пад или неодредено, \n",
        "за периодот Т, која овозможува машинско учење треба да направиме статистичка анализа на податоците.\n",
        "* За разни вредности на средниот раст R = 0,05%, 0,1% или повеќе/помалку да се види колку случаи има на раст или пад поголем од границата. \n",
        "* Ќе направиме една табела, или график од тоа и ќе одлучиме колку да земиме да биде границата со која би пробале прво. Ова е за работа со класификација. Ако се работи со регресија нема потреба од ова\n"
      ],
      "metadata": {
        "id": "ijF8zI6JkxGN"
      }
    },
    {
      "cell_type": "markdown",
      "source": [
        "T = 10,30,60,120"
      ],
      "metadata": {
        "id": "haa1ARxjk1py"
      }
    },
    {
      "cell_type": "code",
      "source": [
        "plt.plot(data.Course)"
      ],
      "metadata": {
        "colab": {
          "base_uri": "https://localhost:8080/",
          "height": 282
        },
        "id": "gNy8IKD4Quqb",
        "outputId": "e5d82aac-bcce-41ce-82d8-9e2eddc33d69"
      },
      "execution_count": null,
      "outputs": [
        {
          "output_type": "execute_result",
          "data": {
            "text/plain": [
              "[<matplotlib.lines.Line2D at 0x7f3ea29ecfd0>]"
            ]
          },
          "metadata": {},
          "execution_count": 15
        },
        {
          "output_type": "display_data",
          "data": {
            "text/plain": [
              "<Figure size 432x288 with 1 Axes>"
            ],
            "image/png": "[encoded data removed]"
          },
          "metadata": {
            "needs_background": "light"
          }
        }
      ]
    },
    {
      "cell_type": "code",
      "source": [
        "data = data[data.Course != 0]"
      ],
      "metadata": {
        "id": "bHoxNP4Ssdzk"
      },
      "execution_count": null,
      "outputs": []
    },
    {
      "cell_type": "code",
      "source": [
        "data.reset_index(inplace=True)\n",
        "data"
      ],
      "metadata": {
        "colab": {
          "base_uri": "https://localhost:8080/",
          "height": 424
        },
        "id": "gHrtNivsvXXG",
        "outputId": "ebc489e4-abb4-49a2-9be3-3b96cf847a0a"
      },
      "execution_count": null,
      "outputs": [
        {
          "output_type": "execute_result",
          "data": {
            "text/plain": [
              "       index      Time    Course Day Before      Piece Accumulated\n",
              "0          0  16:59:59  13716.93     -4.13%       4.42  112977.897\n",
              "1          1  16:59:58  13718.59     -4.11%      8.622  112973.476\n",
              "2          2  16:59:57  13718.75     -4.11%     16.971  112964.854\n",
              "3          3  16:59:56  13718.74     -4.11%      5.202  112947.883\n",
              "4          4  16:59:55  13719.08     -4.11%      1.348  112942.681\n",
              "...      ...       ...       ...        ...        ...         ...\n",
              "28618  28618  09:03:01  13482.36     -5.94%     25.713    3429.575\n",
              "28619  28619  09:03:00  13487.59     -5.90%     11.404    3403.862\n",
              "28620  28620  09:02:59  13484.43     -5.92%     12.636    3392.458\n",
              "28621  28621  09:02:58   13483.0     -5.93%     10.332    3379.822\n",
              "28622  28622  09:02:57  13479.69     -5.96%  3.369.490     3369.49\n",
              "\n",
              "[28623 rows x 6 columns]"
            ],
            "text/html": [
              "\n",
              "  <div id=\"df-25aab430-0cd7-4abb-9fe7-e89ddd45198a\">\n",
              "    <div class=\"colab-df-container\">\n",
              "      <div>\n",
              "<style scoped>\n",
              "    .dataframe tbody tr th:only-of-type {\n",
              "        vertical-align: middle;\n",
              "    }\n",
              "\n",
              "    .dataframe tbody tr th {\n",
              "        vertical-align: top;\n",
              "    }\n",
              "\n",
              "    .dataframe thead th {\n",
              "        text-align: right;\n",
              "    }\n",
              "</style>\n",
              "<table border=\"1\" class=\"dataframe\">\n",
              "  <thead>\n",
              "    <tr style=\"text-align: right;\">\n",
              "      <th></th>\n",
              "      <th>index</th>\n",
              "      <th>Time</th>\n",
              "      <th>Course</th>\n",
              "      <th>Day Before</th>\n",
              "      <th>Piece</th>\n",
              "      <th>Accumulated</th>\n",
              "    </tr>\n",
              "  </thead>\n",
              "  <tbody>\n",
              "    <tr>\n",
              "      <th>0</th>\n",
              "      <td>0</td>\n",
              "      <td>16:59:59</td>\n",
              "      <td>13716.93</td>\n",
              "      <td>-4.13%</td>\n",
              "      <td>4.42</td>\n",
              "      <td>112977.897</td>\n",
              "    </tr>\n",
              "    <tr>\n",
              "      <th>1</th>\n",
              "      <td>1</td>\n",
              "      <td>16:59:58</td>\n",
              "      <td>13718.59</td>\n",
              "      <td>-4.11%</td>\n",
              "      <td>8.622</td>\n",
              "      <td>112973.476</td>\n",
              "    </tr>\n",
              "    <tr>\n",
              "      <th>2</th>\n",
              "      <td>2</td>\n",
              "      <td>16:59:57</td>\n",
              "      <td>13718.75</td>\n",
              "      <td>-4.11%</td>\n",
              "      <td>16.971</td>\n",
              "      <td>112964.854</td>\n",
              "    </tr>\n",
              "    <tr>\n",
              "      <th>3</th>\n",
              "      <td>3</td>\n",
              "      <td>16:59:56</td>\n",
              "      <td>13718.74</td>\n",
              "      <td>-4.11%</td>\n",
              "      <td>5.202</td>\n",
              "      <td>112947.883</td>\n",
              "    </tr>\n",
              "    <tr>\n",
              "      <th>4</th>\n",
              "      <td>4</td>\n",
              "      <td>16:59:55</td>\n",
              "      <td>13719.08</td>\n",
              "      <td>-4.11%</td>\n",
              "      <td>1.348</td>\n",
              "      <td>112942.681</td>\n",
              "    </tr>\n",
              "    <tr>\n",
              "      <th>...</th>\n",
              "      <td>...</td>\n",
              "      <td>...</td>\n",
              "      <td>...</td>\n",
              "      <td>...</td>\n",
              "      <td>...</td>\n",
              "      <td>...</td>\n",
              "    </tr>\n",
              "    <tr>\n",
              "      <th>28618</th>\n",
              "      <td>28618</td>\n",
              "      <td>09:03:01</td>\n",
              "      <td>13482.36</td>\n",
              "      <td>-5.94%</td>\n",
              "      <td>25.713</td>\n",
              "      <td>3429.575</td>\n",
              "    </tr>\n",
              "    <tr>\n",
              "      <th>28619</th>\n",
              "      <td>28619</td>\n",
              "      <td>09:03:00</td>\n",
              "      <td>13487.59</td>\n",
              "      <td>-5.90%</td>\n",
              "      <td>11.404</td>\n",
              "      <td>3403.862</td>\n",
              "    </tr>\n",
              "    <tr>\n",
              "      <th>28620</th>\n",
              "      <td>28620</td>\n",
              "      <td>09:02:59</td>\n",
              "      <td>13484.43</td>\n",
              "      <td>-5.92%</td>\n",
              "      <td>12.636</td>\n",
              "      <td>3392.458</td>\n",
              "    </tr>\n",
              "    <tr>\n",
              "      <th>28621</th>\n",
              "      <td>28621</td>\n",
              "      <td>09:02:58</td>\n",
              "      <td>13483.0</td>\n",
              "      <td>-5.93%</td>\n",
              "      <td>10.332</td>\n",
              "      <td>3379.822</td>\n",
              "    </tr>\n",
              "    <tr>\n",
              "      <th>28622</th>\n",
              "      <td>28622</td>\n",
              "      <td>09:02:57</td>\n",
              "      <td>13479.69</td>\n",
              "      <td>-5.96%</td>\n",
              "      <td>3.369.490</td>\n",
              "      <td>3369.49</td>\n",
              "    </tr>\n",
              "  </tbody>\n",
              "</table>\n",
              "<p>28623 rows × 6 columns</p>\n",
              "</div>\n",
              "      <button class=\"colab-df-convert\" onclick=\"convertToInteractive('df-25aab430-0cd7-4abb-9fe7-e89ddd45198a')\"\n",
              "              title=\"Convert this dataframe to an interactive table.\"\n",
              "              style=\"display:none;\">\n",
              "        \n",
              "  <svg xmlns=\"http://www.w3.org/2000/svg\" height=\"24px\"viewBox=\"0 0 24 24\"\n",
              "       width=\"24px\">\n",
              "    <path d=\"M0 0h24v24H0V0z\" fill=\"none\"/>\n",
              "    <path d=\"M18.56 5.44l.94 2.06.94-2.06 2.06-.94-2.06-.94-.94-2.06-.94 2.06-2.06.94zm-11 1L8.5 8.5l.94-2.06 2.06-.94-2.06-.94L8.5 2.5l-.94 2.06-2.06.94zm10 10l.94 2.06.94-2.06 2.06-.94-2.06-.94-.94-2.06-.94 2.06-2.06.94z\"/><path d=\"M17.41 7.96l-1.37-1.37c-.4-.4-.92-.59-1.43-.59-.52 0-1.04.2-1.43.59L10.3 9.45l-7.72 7.72c-.78.78-.78 2.05 0 2.83L4 21.41c.39.39.9.59 1.41.59.51 0 1.02-.2 1.41-.59l7.78-7.78 2.81-2.81c.8-.78.8-2.07 0-2.86zM5.41 20L4 18.59l7.72-7.72 1.47 1.35L5.41 20z\"/>\n",
              "  </svg>\n",
              "      </button>\n",
              "      \n",
              "  <style>\n",
              "    .colab-df-container {\n",
              "      display:flex;\n",
              "      flex-wrap:wrap;\n",
              "      gap: 12px;\n",
              "    }\n",
              "\n",
              "    .colab-df-convert {\n",
              "      background-color: #E8F0FE;\n",
              "      border: none;\n",
              "      border-radius: 50%;\n",
              "      cursor: pointer;\n",
              "      display: none;\n",
              "      fill: #1967D2;\n",
              "      height: 32px;\n",
              "      padding: 0 0 0 0;\n",
              "      width: 32px;\n",
              "    }\n",
              "\n",
              "    .colab-df-convert:hover {\n",
              "      background-color: #E2EBFA;\n",
              "      box-shadow: 0px 1px 2px rgba(60, 64, 67, 0.3), 0px 1px 3px 1px rgba(60, 64, 67, 0.15);\n",
              "      fill: #174EA6;\n",
              "    }\n",
              "\n",
              "    [theme=dark] .colab-df-convert {\n",
              "      background-color: #3B4455;\n",
              "      fill: #D2E3FC;\n",
              "    }\n",
              "\n",
              "    [theme=dark] .colab-df-convert:hover {\n",
              "      background-color: #434B5C;\n",
              "      box-shadow: 0px 1px 3px 1px rgba(0, 0, 0, 0.15);\n",
              "      filter: drop-shadow(0px 1px 2px rgba(0, 0, 0, 0.3));\n",
              "      fill: #FFFFFF;\n",
              "    }\n",
              "  </style>\n",
              "\n",
              "      <script>\n",
              "        const buttonEl =\n",
              "          document.querySelector('#df-25aab430-0cd7-4abb-9fe7-e89ddd45198a button.colab-df-convert');\n",
              "        buttonEl.style.display =\n",
              "          google.colab.kernel.accessAllowed ? 'block' : 'none';\n",
              "\n",
              "        async function convertToInteractive(key) {\n",
              "          const element = document.querySelector('#df-25aab430-0cd7-4abb-9fe7-e89ddd45198a');\n",
              "          const dataTable =\n",
              "            await google.colab.kernel.invokeFunction('convertToInteractive',\n",
              "                                                     [key], {});\n",
              "          if (!dataTable) return;\n",
              "\n",
              "          const docLinkHtml = 'Like what you see? Visit the ' +\n",
              "            '<a target=\"_blank\" href=https://colab.research.google.com/notebooks/data_table.ipynb>data table notebook</a>'\n",
              "            + ' to learn more about interactive tables.';\n",
              "          element.innerHTML = '';\n",
              "          dataTable['output_type'] = 'display_data';\n",
              "          await google.colab.output.renderOutput(dataTable, element);\n",
              "          const docLink = document.createElement('div');\n",
              "          docLink.innerHTML = docLinkHtml;\n",
              "          element.appendChild(docLink);\n",
              "        }\n",
              "      </script>\n",
              "    </div>\n",
              "  </div>\n",
              "  "
            ]
          },
          "metadata": {},
          "execution_count": 17
        }
      ]
    },
    {
      "cell_type": "code",
      "source": [
        "data = data.drop(columns='index')"
      ],
      "metadata": {
        "id": "kMBjKPP1wLlC"
      },
      "execution_count": null,
      "outputs": []
    },
    {
      "cell_type": "code",
      "source": [
        "r=0\n",
        "x=0\n",
        "times10 =[]\n",
        "times30 = []\n",
        "times60 = []\n",
        "times120 = []"
      ],
      "metadata": {
        "id": "Y7chk73undjG"
      },
      "execution_count": null,
      "outputs": []
    },
    {
      "cell_type": "code",
      "source": [
        "for i in range(len(data)-1):\n",
        "  p0 = data[\"Course\"][i]\n",
        "  p1 = data[\"Course\"][i+1]\n",
        "  temp = math.log(abs(p1)) - math.log(abs(p0))\n",
        "  r=r+temp\n",
        "  x=x+1\n",
        "  if(x==10):\n",
        "    x=0\n",
        "    times10.append(r)"
      ],
      "metadata": {
        "id": "7TFteoFnLyqk"
      },
      "execution_count": null,
      "outputs": []
    },
    {
      "cell_type": "code",
      "source": [
        "for i in range(len(data)-1):\n",
        "  p0 = data[\"Course\"][i]\n",
        "  p1 = data[\"Course\"][i+1]\n",
        "  temp = math.log(abs(p1)) - math.log(abs(p0))\n",
        "  r=r+temp\n",
        "  x=x+1\n",
        "  if(x==30):\n",
        "    x=0\n",
        "    times30.append(r)"
      ],
      "metadata": {
        "id": "eSJp7aBSLjD0"
      },
      "execution_count": null,
      "outputs": []
    },
    {
      "cell_type": "code",
      "source": [
        "for i in range(len(data)-1):\n",
        "  p0 = data[\"Course\"][i]\n",
        "  p1 = data[\"Course\"][i+1]\n",
        "  temp = math.log(abs(p1)) - math.log(abs(p0))\n",
        "  r=r+temp\n",
        "  x=x+1\n",
        "  if(x==60):\n",
        "    x=0\n",
        "    times60.append(r)"
      ],
      "metadata": {
        "id": "e_CPAhckmZEY"
      },
      "execution_count": null,
      "outputs": []
    },
    {
      "cell_type": "code",
      "source": [
        "for i in range(len(data)-1):\n",
        "  p0 = data[\"Course\"][i]\n",
        "  p1 = data[\"Course\"][i+1]\n",
        "  temp = math.log(abs(p1)) - math.log(abs(p0))\n",
        "  r=r+temp\n",
        "  x=x+1\n",
        "  if(x==120):\n",
        "    x=0\n",
        "    times120.append(r)"
      ],
      "metadata": {
        "id": "uoHnX0cYPD1r"
      },
      "execution_count": null,
      "outputs": []
    },
    {
      "cell_type": "code",
      "source": [
        "plt.plot(times10)"
      ],
      "metadata": {
        "colab": {
          "base_uri": "https://localhost:8080/",
          "height": 282
        },
        "id": "iYw1LWfvMLuB",
        "outputId": "ffe9d8c4-6971-4323-a1a9-bec19d90c047"
      },
      "execution_count": null,
      "outputs": [
        {
          "output_type": "execute_result",
          "data": {
            "text/plain": [
              "[<matplotlib.lines.Line2D at 0x7f3ea290c050>]"
            ]
          },
          "metadata": {},
          "execution_count": 27
        },
        {
          "output_type": "display_data",
          "data": {
            "text/plain": [
              "<Figure size 432x288 with 1 Axes>"
            ],
            "image/png": "[encoded data removed]"
          },
          "metadata": {
            "needs_background": "light"
          }
        }
      ]
    },
    {
      "cell_type": "code",
      "source": [
        "plt.plot(times30)"
      ],
      "metadata": {
        "colab": {
          "base_uri": "https://localhost:8080/",
          "height": 282
        },
        "id": "Nt3hh_aVMUQ_",
        "outputId": "11ff6224-8c1b-43cb-ddec-920d885975e8"
      },
      "execution_count": null,
      "outputs": [
        {
          "output_type": "execute_result",
          "data": {
            "text/plain": [
              "[<matplotlib.lines.Line2D at 0x7f3ea23c90d0>]"
            ]
          },
          "metadata": {},
          "execution_count": 28
        },
        {
          "output_type": "display_data",
          "data": {
            "text/plain": [
              "<Figure size 432x288 with 1 Axes>"
            ],
            "image/png": "[encoded data removed]"
          },
          "metadata": {
            "needs_background": "light"
          }
        }
      ]
    },
    {
      "cell_type": "code",
      "source": [
        "plt.plot(times60)"
      ],
      "metadata": {
        "colab": {
          "base_uri": "https://localhost:8080/",
          "height": 282
        },
        "id": "eouy_qLpMUKV",
        "outputId": "8721786f-c1ed-44a9-f90f-2d91feabb899"
      },
      "execution_count": null,
      "outputs": [
        {
          "output_type": "execute_result",
          "data": {
            "text/plain": [
              "[<matplotlib.lines.Line2D at 0x7f3ea2341090>]"
            ]
          },
          "metadata": {},
          "execution_count": 29
        },
        {
          "output_type": "display_data",
          "data": {
            "text/plain": [
              "<Figure size 432x288 with 1 Axes>"
            ],
            "image/png": "[encoded data removed]"
          },
          "metadata": {
            "needs_background": "light"
          }
        }
      ]
    },
    {
      "cell_type": "code",
      "source": [
        "plt.plot(times120)"
      ],
      "metadata": {
        "colab": {
          "base_uri": "https://localhost:8080/",
          "height": 282
        },
        "id": "NPe4YS2hPPIs",
        "outputId": "6fe0756d-d5b4-470e-d8cd-78ad694ba583"
      },
      "execution_count": null,
      "outputs": [
        {
          "output_type": "execute_result",
          "data": {
            "text/plain": [
              "[<matplotlib.lines.Line2D at 0x7f3ea23238d0>]"
            ]
          },
          "metadata": {},
          "execution_count": 30
        },
        {
          "output_type": "display_data",
          "data": {
            "text/plain": [
              "<Figure size 432x288 with 1 Axes>"
            ],
            "image/png": "[encoded data removed]"
          },
          "metadata": {
            "needs_background": "light"
          }
        }
      ]
    },
    {
      "cell_type": "code",
      "source": [
        "r10 =sum(times10)/9\n",
        "r10"
      ],
      "metadata": {
        "colab": {
          "base_uri": "https://localhost:8080/"
        },
        "id": "KPzZc--pNHIh",
        "outputId": "46b16cc4-f060-4536-9385-905221546dbb"
      },
      "execution_count": null,
      "outputs": [
        {
          "output_type": "execute_result",
          "data": {
            "text/plain": [
              "16.644783006520385"
            ]
          },
          "metadata": {},
          "execution_count": 31
        }
      ]
    },
    {
      "cell_type": "code",
      "source": [
        "r30 =sum(times30)/29\n",
        "r30"
      ],
      "metadata": {
        "colab": {
          "base_uri": "https://localhost:8080/"
        },
        "id": "zmtnMQ6-NHAp",
        "outputId": "0d8fec99-4622-469a-8017-61f2bbb9ea41"
      },
      "execution_count": null,
      "outputs": [
        {
          "output_type": "execute_result",
          "data": {
            "text/plain": [
              "1.7220948966076384"
            ]
          },
          "metadata": {},
          "execution_count": 32
        }
      ]
    },
    {
      "cell_type": "code",
      "source": [
        "r60 =sum(times60)/59\n",
        "r60"
      ],
      "metadata": {
        "colab": {
          "base_uri": "https://localhost:8080/"
        },
        "id": "jfFbLW6GNWWL",
        "outputId": "ae5495d9-5566-4c55-9f18-1ef880970a94"
      },
      "execution_count": null,
      "outputs": [
        {
          "output_type": "execute_result",
          "data": {
            "text/plain": [
              "0.4231737226454556"
            ]
          },
          "metadata": {},
          "execution_count": 33
        }
      ]
    },
    {
      "cell_type": "code",
      "source": [
        "r120 =sum(times120)/119\n",
        "r120"
      ],
      "metadata": {
        "colab": {
          "base_uri": "https://localhost:8080/"
        },
        "id": "eVGaaFaUPTZ0",
        "outputId": "e0a28f3d-6ac6-4ed2-9605-3924b5993028"
      },
      "execution_count": null,
      "outputs": [
        {
          "output_type": "execute_result",
          "data": {
            "text/plain": [
              "6.789292932235374e-05"
            ]
          },
          "metadata": {},
          "execution_count": 34
        }
      ]
    }
  ]
}